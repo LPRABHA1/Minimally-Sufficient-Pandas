{
 "cells": [
  {
   "cell_type": "markdown",
   "metadata": {},
   "source": [
    "# 6. Standardizing `groupby`\n",
    "\n",
    "There are a number of syntaxes that get used for the groupby method. I suggest choosing a single syntax so that all of your code looks the same.\n"
   ]
  },
  {
   "cell_type": "code",
   "execution_count": null,
   "metadata": {},
   "outputs": [],
   "source": [
    "import pandas as pd\n",
    "pd.set_option('display.max_columns', 100)\n",
    "college = pd.read_csv('data/college.csv')\n",
    "college.head(5)"
   ]
  },
  {
   "cell_type": "markdown",
   "metadata": {},
   "source": [
    "## The three components of `groupby`\n",
    "\n",
    "Typically, when calling the `groupby` method, you will be performing an aggregation. This is the by far the most common scenario. When you are performing an aggregation during a `groupby`, there will always be three components.\n",
    "\n",
    "* **Grouping column** - Unique values form independent groups\n",
    "* **Aggregating column** - Column whose values will get aggregated. Usually numeric\n",
    "* **Aggregating function** - How the values will get aggregated (sum, min, max, mean, median, etc...)\n",
    "\n",
    "![][1]\n",
    "\n",
    "### Identify each component from image above\n",
    "* Grouping column - Dept\n",
    "* Aggregating columns - salary, experience\n",
    "* Aggregating functions - sum, average\n",
    "\n",
    "All groupby aggregations will have these three components.\n",
    "\n",
    "### My syntax of choice for `groupby`\n",
    "There are a few different syntaxes that Pandas allows to perform a groupby aggregation. The following is the one I use.\n",
    "\n",
    "```df.groupby('grouping column').agg({'aggregating column': 'aggregating function'})```\n",
    "\n",
    "[1]: images/sac.png"
   ]
  },
  {
   "cell_type": "markdown",
   "metadata": {},
   "source": [
    "### A buffet of `groupby` for finding the maximum math SAT score per state\n",
    "Below, we will go through several different syntaxes that return the same result for finding the maximum SAT score per state."
   ]
  },
  {
   "cell_type": "markdown",
   "metadata": {},
   "source": [
    "My preferred way. It handles more complex cases."
   ]
  },
  {
   "cell_type": "code",
   "execution_count": null,
   "metadata": {},
   "outputs": [],
   "source": [
    "df = college.groupby('stabbr').agg({'satmtmid': 'max'})\n",
    "df.head()"
   ]
  },
  {
   "cell_type": "markdown",
   "metadata": {},
   "source": [
    "The aggregating column can be selected within brackets following the call to `groupby`."
   ]
  },
  {
   "cell_type": "code",
   "execution_count": null,
   "metadata": {},
   "outputs": [],
   "source": [
    "college.groupby('stabbr')['satmtmid'].agg('max').head()"
   ]
  },
  {
   "cell_type": "markdown",
   "metadata": {},
   "source": [
    "`aggregate` is an alias for `agg`. Always use `agg`."
   ]
  },
  {
   "cell_type": "code",
   "execution_count": null,
   "metadata": {},
   "outputs": [],
   "source": [
    "college.groupby('stabbr')['satmtmid'].aggregate('max').head()"
   ]
  },
  {
   "cell_type": "markdown",
   "metadata": {},
   "source": [
    "You can call the aggregating method directly without calling `agg`."
   ]
  },
  {
   "cell_type": "code",
   "execution_count": null,
   "metadata": {},
   "outputs": [],
   "source": [
    "college.groupby('stabbr')['satmtmid'].max().head()"
   ]
  },
  {
   "cell_type": "markdown",
   "metadata": {},
   "source": [
    "### Major benefits of preferred syntax\n",
    "The reason I choose this syntax, is that it can handle more complex grouping problems. For instance, if we wanted to find the max and min math and verbal sat score along with the average undergrad population per state we would do the following."
   ]
  },
  {
   "cell_type": "code",
   "execution_count": null,
   "metadata": {},
   "outputs": [],
   "source": [
    "df = college.groupby('stabbr').agg({'satmtmid': ['min', 'max'],\n",
    "                                    'satvrmid': ['min', 'max'],\n",
    "                                    'ugds': 'mean'}).round(0)\n",
    "df.head(10)"
   ]
  },
  {
   "cell_type": "markdown",
   "metadata": {},
   "source": [
    "This problem isn't solvable using the other syntaxes. If everyone on your team is using the same syntax, code becomes easier to read."
   ]
  }
 ],
 "metadata": {
  "kernelspec": {
   "display_name": "Python 3",
   "language": "python",
   "name": "python3"
  },
  "language_info": {
   "codemirror_mode": {
    "name": "ipython",
    "version": 3
   },
   "file_extension": ".py",
   "mimetype": "text/x-python",
   "name": "python",
   "nbconvert_exporter": "python",
   "pygments_lexer": "ipython3",
   "version": "3.6.7"
  }
 },
 "nbformat": 4,
 "nbformat_minor": 2
}
