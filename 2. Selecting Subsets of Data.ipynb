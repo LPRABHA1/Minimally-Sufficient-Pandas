{
 "cells": [
  {
   "cell_type": "markdown",
   "metadata": {},
   "source": [
    "# 2. Selecting Subsets of Data"
   ]
  },
  {
   "cell_type": "markdown",
   "metadata": {},
   "source": [
    "## There should be one-- and preferably only one --obvious way to do it.\n",
    "This quote is from the \"Zen of Python\" by Tim Peters. Import the `this` module to have it printed to the screen."
   ]
  },
  {
   "cell_type": "code",
   "execution_count": null,
   "metadata": {},
   "outputs": [],
   "source": [
    "import this"
   ]
  },
  {
   "cell_type": "markdown",
   "metadata": {},
   "source": [
    "### Pandas breaks this guideline a whole lot\n",
    "Pandas is perhaps an extreme example of a library that gives its users many different methods for completing the same task. This is not a good thing and leads to different users writing different code for the same task. Pandas is capable of doing many tasks and it is difficult to retain in your working memory all the possibilities. Restricting the number of ways to use the library will make you a more effective analyst.\n",
    "\n",
    "## Selecting Subsets of Data\n",
    "\n",
    "### Selecting a single column - brackets vs dot notation\n",
    "Pandas gives its users two methods to select a single column of data as a Series. You can place the name inside the brackets or you can use dot notation. Let's see this in action with some sample data."
   ]
  },
  {
   "cell_type": "code",
   "execution_count": null,
   "metadata": {},
   "outputs": [],
   "source": [
    "import pandas as pd\n",
    "df = pd.read_csv('data/sample_data.csv', index_col=0)\n",
    "df"
   ]
  },
  {
   "cell_type": "markdown",
   "metadata": {},
   "source": [
    "### Select the state column\n",
    "Let's select the `state` column with both the brackets and dot notation."
   ]
  },
  {
   "cell_type": "code",
   "execution_count": null,
   "metadata": {},
   "outputs": [],
   "source": [
    "df['state']"
   ]
  },
  {
   "cell_type": "code",
   "execution_count": null,
   "metadata": {},
   "outputs": [],
   "source": [
    "df.state"
   ]
  },
  {
   "cell_type": "markdown",
   "metadata": {},
   "source": [
    "### Select the favorite food column\n",
    "This is only possible using the brackets as spaces would raise a syntax error with dot notation."
   ]
  },
  {
   "cell_type": "code",
   "execution_count": null,
   "metadata": {},
   "outputs": [],
   "source": [
    "df['favorite food']"
   ]
  },
  {
   "cell_type": "markdown",
   "metadata": {},
   "source": [
    "### Select the `count` column\n",
    "This again only works with the brackets as `count` is a DataFrame method to count the non-missing values of each column."
   ]
  },
  {
   "cell_type": "code",
   "execution_count": null,
   "metadata": {},
   "outputs": [],
   "source": [
    "df['count']"
   ]
  },
  {
   "cell_type": "code",
   "execution_count": null,
   "metadata": {},
   "outputs": [],
   "source": [
    "df.count"
   ]
  },
  {
   "cell_type": "markdown",
   "metadata": {},
   "source": [
    "## Choose the method that always works\n",
    "Using the brackets and dot notation provide two different ways to select a single column of data. Dot notation does now work for columns with spaces or columns with the same name as DataFrame methods. The dot notation provides no additional functionality over the brackets and does not work in all situations. Therefore, I never use it. It's single advantage is three less key strokes.\n",
    "\n",
    "### Minimally  Sufficient Guiding Principle\n",
    "If a method does not provide any additional functionality over another method (i.e. its functionality is a subset of another) then it shouldn't be used. Methods should only be considered if they have some additional, unique functionality.\n",
    "\n",
    "**Guidance** - Only use the brackets when selecting a single column of data."
   ]
  },
  {
   "cell_type": "markdown",
   "metadata": {},
   "source": [
    "## Select multiple columns\n",
    "Selecting multiple columns is done with the brackets. Pass in all the columns you want to select as a list. Here we select state, age, and color."
   ]
  },
  {
   "cell_type": "code",
   "execution_count": null,
   "metadata": {},
   "outputs": [],
   "source": [
    "df[['state', 'age', 'color']]"
   ]
  },
  {
   "cell_type": "markdown",
   "metadata": {},
   "source": [
    "### For clarity, consider creating a list first\n",
    "A common mistake made when selecting multiple columns is to forget to put the columns within a list and write the following which would be an error: `df['state', 'age', 'color']`. For clarity, you can consider creating a list first and then making the selection in a second line."
   ]
  },
  {
   "cell_type": "code",
   "execution_count": null,
   "metadata": {},
   "outputs": [],
   "source": [
    "cols = ['state', 'age', 'color']\n",
    "df[cols]"
   ]
  },
  {
   "cell_type": "markdown",
   "metadata": {},
   "source": [
    "## Selecting Rows and Columns Simultaneously with `loc` and `iloc`\n",
    "\n",
    "Rows and columns in a Pandas DataFrame can be referenced in two ways - by either **label** or **integer location**. This dual reference is one of the reasons that subset selection is confusing for beginners. Pandas provides the indexers `loc` to handle selection by label and `iloc` for selection by integer location. Both are capable of simultaneously selecting rows and columns.\n",
    "\n",
    "Let's select by label with `loc` the rows for Niko and Dean along with the columns age, favorite food and score. We create two separate lists for clarity."
   ]
  },
  {
   "cell_type": "code",
   "execution_count": null,
   "metadata": {},
   "outputs": [],
   "source": [
    "rows = ['Niko', 'Dean']\n",
    "cols = ['age', 'favorite food', 'score']\n",
    "df.loc[rows, cols]"
   ]
  },
  {
   "cell_type": "markdown",
   "metadata": {},
   "source": [
    "Now let's select by integer location with `iloc` the rows 1, 2, and 5 and the columns 0 and 4."
   ]
  },
  {
   "cell_type": "code",
   "execution_count": null,
   "metadata": {},
   "outputs": [],
   "source": [
    "rows = [1, 2, 5]\n",
    "cols = [0, 4]\n",
    "df.iloc[rows, cols]"
   ]
  },
  {
   "cell_type": "markdown",
   "metadata": {},
   "source": [
    "## The deprecated `ix` indexer - never use it\n",
    "\n",
    "The `ix` indexer was created before `loc` or `iloc` and was able to select data by both label and integer location. Although it was versatile, it was ambiguous as labels can be integers as well as strings. Because of this ambiguity, the `loc` and `iloc` indexers were created which are explicit. \n",
    "\n",
    "**GUIDANCE** - Every trace of `ix` should be removed and replaced with `loc` or `iloc`. \n",
    "\n",
    "### What happens if you need to select by both integer location and label simultaneously\n",
    "It's very rare that you will need to select by both integer location and label simultaneously. Let's see an example. If you are selecting rows 1, 2, and 5 along with columns age, favorite food and score you can call one indexer after another. This is called chained indexing and should be avoided at all costs."
   ]
  },
  {
   "cell_type": "code",
   "execution_count": null,
   "metadata": {},
   "outputs": [],
   "source": [
    "rows = [1, 2, 5]\n",
    "cols = ['age', 'favorite food', 'score']\n",
    "df.iloc[rows, :].loc[:, cols]"
   ]
  },
  {
   "cell_type": "markdown",
   "metadata": {},
   "source": [
    "### Selecting with `at` and `iat` \n",
    "Two additional indexers, `at` and `iat`, exist that select a single cell of a DataFrame. These provide a slight performance advantage over their analogous `loc` and `iloc` indexers. But, they introduce the additional burden of having to remember what they do. Also, for most data analysis, the increase in performance isn't useful at all unless it's being done at scale. And if performance truly is an issue, then you place your data in NumPy arrays and use it directly."
   ]
  },
  {
   "cell_type": "code",
   "execution_count": null,
   "metadata": {},
   "outputs": [],
   "source": [
    "import numpy as np"
   ]
  },
  {
   "cell_type": "code",
   "execution_count": null,
   "metadata": {},
   "outputs": [],
   "source": [
    "a = np.random.rand(10 ** 5, 5)\n",
    "df1 = pd.DataFrame(a)"
   ]
  },
  {
   "cell_type": "code",
   "execution_count": null,
   "metadata": {},
   "outputs": [],
   "source": [
    "row = 50000\n",
    "col = 3"
   ]
  },
  {
   "cell_type": "code",
   "execution_count": null,
   "metadata": {},
   "outputs": [],
   "source": [
    "%timeit -n 1 -r 1 df1.iloc[row, col]"
   ]
  },
  {
   "cell_type": "code",
   "execution_count": null,
   "metadata": {},
   "outputs": [],
   "source": [
    "%timeit -n 1 -r 1 df1.iat[row, col]"
   ]
  },
  {
   "cell_type": "code",
   "execution_count": null,
   "metadata": {},
   "outputs": [],
   "source": [
    "%timeit a[row, col]"
   ]
  },
  {
   "cell_type": "markdown",
   "metadata": {},
   "source": [
    "**GUIDANCE** - There really is no need to use `at` and `iat`. If you do need better performance, use the underlying NumPy array."
   ]
  }
 ],
 "metadata": {
  "kernelspec": {
   "display_name": "Python 3",
   "language": "python",
   "name": "python3"
  },
  "language_info": {
   "codemirror_mode": {
    "name": "ipython",
    "version": 3
   },
   "file_extension": ".py",
   "mimetype": "text/x-python",
   "name": "python",
   "nbconvert_exporter": "python",
   "pygments_lexer": "ipython3",
   "version": "3.6.7"
  }
 },
 "nbformat": 4,
 "nbformat_minor": 2
}
